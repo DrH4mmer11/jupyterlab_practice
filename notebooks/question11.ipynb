{
 "cells": [
  {
   "cell_type": "markdown",
   "id": "1c7c2f05-f054-4039-a6d3-939ba4fe4a6e",
   "metadata": {},
   "source": [
    "# Derek\n",
    "Notebook for assignment 7"
   ]
  },
  {
   "cell_type": "code",
   "execution_count": 1,
   "id": "de25583e-9434-4df2-a6ef-8414d9c1f02e",
   "metadata": {},
   "outputs": [
    {
     "data": {
      "text/plain": [
       "5.0"
      ]
     },
     "execution_count": 1,
     "metadata": {},
     "output_type": "execute_result"
    }
   ],
   "source": [
    "def compute_mean(input):\n",
    "    output = sum(input)/len(input)\n",
    "    return output\n",
    "\n",
    "compute_mean([2, 4, 6, 8])"
   ]
  },
  {
   "cell_type": "markdown",
   "id": "f54086dc-36cf-4c84-b95f-16bf3390a93a",
   "metadata": {},
   "source": [
    "This code takes a sequence of numbers and computes the mean by summing the values of the sequence and dividing the sum by the number of elements in the sequence. Below is two different representations of the equation of the mean:\n",
    "\n",
    "### $ \\bar{x} = \\frac{x_1 + x_2 + … + x_n}{n} = \\frac{1}{n}\\left( \\sum_{i=1}^{n}x_i \\right) $"
   ]
  }
 ],
 "metadata": {
  "kernelspec": {
   "display_name": "Python [conda env:jupyterlab_practice]",
   "language": "python",
   "name": "conda-env-jupyterlab_practice-py"
  },
  "language_info": {
   "codemirror_mode": {
    "name": "ipython",
    "version": 3
   },
   "file_extension": ".py",
   "mimetype": "text/x-python",
   "name": "python",
   "nbconvert_exporter": "python",
   "pygments_lexer": "ipython3",
   "version": "3.12.4"
  }
 },
 "nbformat": 4,
 "nbformat_minor": 5
}
